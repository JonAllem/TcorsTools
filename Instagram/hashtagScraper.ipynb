{
 "cells": [
  {
   "cell_type": "markdown",
   "metadata": {},
   "source": [
    "The code below does not work any more due to Instagram changing its policies on accessing its endpoints."
   ]
  },
  {
   "cell_type": "code",
   "execution_count": null,
   "metadata": {},
   "outputs": [],
   "source": [
    "#!/usr/bin/python\n",
    "# -*- coding: utf-8 -*-\n",
    "import requests\n",
    "import urllib.request\n",
    "import urllib.parse\n",
    "import urllib.error\n",
    "import ssl\n",
    "import json\n",
    "import pandas as pd\n",
    "import numpy as np\n",
    "from datetime import datetime\n",
    "import time\n",
    "import tqdm\n",
    "import traceback\n",
    "import requests\n",
    "import random\n",
    "import pickle\n",
    "import urllib.request as req"
   ]
  },
  {
   "cell_type": "code",
   "execution_count": null,
   "metadata": {},
   "outputs": [],
   "source": [
    "hashtagList = ['ejuice', 'eliquid'];"
   ]
  },
  {
   "cell_type": "code",
   "execution_count": null,
   "metadata": {},
   "outputs": [],
   "source": [
    "class Insta_Image_Links_Scraper:\n",
    "\n",
    "    def getlinks(self, hashtag, url, count):\n",
    "\n",
    "        html = urllib.request.urlopen(url, context=self.ctx).read()\n",
    "\n",
    "        data = json.loads(html)\n",
    "        vals = []\n",
    "        for node in data['graphql']['hashtag']['edge_hashtag_to_media']['edges']:\n",
    "            post = node['node']\n",
    "            temp = {}\n",
    "            try:\n",
    "                temp['linkCode'] = post['shortcode']\n",
    "                temp['isVideo'] = post['is_video']\n",
    "                temp['postType'] = post['__typename']\n",
    "                temp['postId'] = post['id']\n",
    "                \n",
    "                if post['edge_media_to_caption']['edges']:\n",
    "                    temp['postCaption'] = post['edge_media_to_caption']['edges'][0]['node']['text']\n",
    "                else:\n",
    "                    temp['postCaption'] = ''\n",
    "                    \n",
    "                temp['imageLink'] = post['display_url']                \n",
    "                temp['postLink'] = \"https://www.instagram.com/p/\" + temp['linkCode']\n",
    "                temp['commentCount'] = post['edge_media_to_comment']['count']\n",
    "                temp['timeStamp'] = post['taken_at_timestamp']\n",
    "                temp['numLikes'] = post['edge_media_preview_like']['count']\n",
    "                temp['caption'] = post['accessibility_caption']\n",
    "                if temp['postType'] == 'GraphSidecar' or temp['isVideo']:\n",
    "                    html_temp =  urllib.request.urlopen(temp['postLink'] + '/?__a=1', context=self.ctx).read()\n",
    "                    pageData_temp = json.loads(html_temp)\n",
    "                    pageData_temp = pageData_temp['graphql']['shortcode_media']\n",
    "                    \n",
    "                    if temp['isVideo']:\n",
    "                        temp['videoURL'] = pageData_temp['video_url']\n",
    "                        temp['videoViewCount'] = pageData_temp['video_view_count']\n",
    "                    else:\n",
    "                        edgeLinks = []\n",
    "                        for node in pageData_temp['edge_sidecar_to_children']['edges']:\n",
    "                            edgeLinks.append(node['node']['display_url'])\n",
    "                        temp['imgURLList'] = edgeLinks\n",
    "                vals.append(temp)\n",
    "                count+=1\n",
    "            except Exception as e:\n",
    "                print(e)\n",
    "                print(\"link: \" + shortcode)\n",
    "            \n",
    "        end_cursor = data['graphql']['hashtag']['edge_hashtag_to_media']['page_info']['end_cursor']\n",
    "\n",
    "        return vals, end_cursor, count \n",
    "\n",
    "    def main(self, hashtag, data, max_count = 10000):\n",
    "        self.ctx = ssl.create_default_context()\n",
    "        self.ctx.check_hostname = False\n",
    "        self.ctx.verify_mode = ssl.CERT_NONE\n",
    "        print('https://www.instagram.com/explore/tags/'\n",
    "                      + hashtag + '/?__a=1')\n",
    "        html = urllib.request.urlopen('https://www.instagram.com/explore/tags/'\n",
    "                      + hashtag + '/?__a=1', context=self.ctx).read()\n",
    "        page = json.loads(html)\n",
    "        if(max_count > page['graphql']['hashtag']['edge_hashtag_to_media']['count']):\n",
    "            max_count = page['graphql']['hashtag']['edge_hashtag_to_media']['count']\n",
    "            print(\"Number of posts: \" + str(max_count))\n",
    "        \n",
    "        print(\"Current Hashtag: #\"+hashtag)\n",
    "        count = 0\n",
    "        vals, end_cursor, count = self.getlinks(hashtag,\n",
    "                      'https://www.instagram.com/explore/tags/'\n",
    "                      + hashtag + '/?__a=1', count)\n",
    "        data.extend(vals)\n",
    "        print(count)\n",
    "        while count < max_count:\n",
    "#                 print(\"New link: \" + 'https://www.instagram.com/explore/tags/' \n",
    "#                       + hashtag + '/?__a=1&max_id=' + end_cursor)\n",
    "            try:\n",
    "                if end_cursor == None:\n",
    "                    break;\n",
    "                vals, end_cursor, count = self.getlinks(hashtag,\n",
    "                          'https://www.instagram.com/explore/tags/'\n",
    "                          + hashtag + '/?__a=1&max_id=' + end_cursor, count)\n",
    "                data.extend(vals)\n",
    "                print(count) \n",
    "            except Exception as e:\n",
    "                print(\"Error: \" + str(e))              \n",
    "                time.sleep(random.uniform(1, 3))"
   ]
  },
  {
   "cell_type": "code",
   "execution_count": null,
   "metadata": {},
   "outputs": [],
   "source": [
    "obj = Insta_Image_Links_Scraper()"
   ]
  },
  {
   "cell_type": "code",
   "execution_count": null,
   "metadata": {},
   "outputs": [],
   "source": [
    "data = []"
   ]
  },
  {
   "cell_type": "code",
   "execution_count": null,
   "metadata": {
    "scrolled": true
   },
   "outputs": [],
   "source": [
    "obj.main(hashtagList[0], data)\n",
    "print(len(data))\n",
    "file = open('data_ejuice.pickle', 'wb')\n",
    "pickle.dump(data, file)\n",
    "file.close()"
   ]
  },
  {
   "cell_type": "code",
   "execution_count": null,
   "metadata": {},
   "outputs": [],
   "source": []
  }
 ],
 "metadata": {
  "kernelspec": {
   "display_name": "Python 3",
   "language": "python",
   "name": "python3"
  },
  "language_info": {
   "codemirror_mode": {
    "name": "ipython",
    "version": 3
   },
   "file_extension": ".py",
   "mimetype": "text/x-python",
   "name": "python",
   "nbconvert_exporter": "python",
   "pygments_lexer": "ipython3",
   "version": "3.7.3"
  }
 },
 "nbformat": 4,
 "nbformat_minor": 2
}
